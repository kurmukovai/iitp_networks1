{
 "cells": [
  {
   "cell_type": "markdown",
   "metadata": {},
   "source": [
    "# (Un)supervised node prediction\n",
    "\n",
    "##  Random Walk based embeddings\n",
    "\n",
    "Use data from https://github.com/shchur/gnn-benchmark/tree/master/data/npz , particulary use Amazon Computers dataset, see description in a corresponding paper https://arxiv.org/pdf/1811.05868.pdf. \n",
    "> Recall that this network has small amount of isolated nodes.\n",
    "\n",
    "1. Run `DeepWalk` to get embeddings of size 32.\n",
    "2. Using `kmeans` with appropriate number of clusters (somewhere between 6 and 12) compute node labels. Compare the result with ground truth communities using `adjusted_rand_index`. Compute corresponding `Modularities`.\n",
    "3. Run your favourite dimensionality reduction algorithm to get a 2 dimensional embedding.\n",
    "4. Compare results (repeate 1-3) with embeddings of size 64 and 128.\n",
    "5. Compare results with supervised Logistic Regression on data feature matrix (without using network data).\n",
    "\n",
    "\n",
    "Recommended for visualization:\n",
    "\n",
    "- Dmitry Ulyanov has nice multicore tsne implementation https://github.com/DmitryUlyanov/Multicore-TSNE\n",
    "- Recent paper from Aleksandr Artemenkov and Maxim Panov https://arxiv.org/pdf/2001.11411.pdf with implementation https://github.com/alartum/ncvis . Reported to be superior to TSNE for the purpose of 2 dimensional visualization."
   ]
  },
  {
   "cell_type": "code",
   "execution_count": 1,
   "metadata": {},
   "outputs": [],
   "source": [
    "import numpy as np"
   ]
  },
  {
   "cell_type": "code",
   "execution_count": 2,
   "metadata": {},
   "outputs": [],
   "source": [
    "def load_npz_to_sparse_graph(file_name):\n",
    "    \"\"\"Load a SparseGraph from a Numpy binary file.\n",
    "    from https://github.com/shchur/gnn-benchmark/blob/master/gnnbench/data/io.py\n",
    "    \"\"\"\n",
    "    from scipy.sparse import csr_matrix\n",
    "    with np.load(file_name) as loader:\n",
    "        loader = dict(loader)\n",
    "        adj_matrix = csr_matrix((loader['adj_data'], loader['adj_indices'], loader['adj_indptr']),\n",
    "                                   shape=loader['adj_shape'])\n",
    "        attr_matrix = csr_matrix((loader['attr_data'], loader['attr_indices'], loader['attr_indptr']),\n",
    "                                        shape=loader['attr_shape'])\n",
    "        labels = loader['labels']\n",
    "        class_names = loader.get('class_names')\n",
    "\n",
    "    return adj_matrix, attr_matrix, labels, class_names"
   ]
  },
  {
   "cell_type": "code",
   "execution_count": 3,
   "metadata": {},
   "outputs": [],
   "source": [
    "adj, X, y, class_names = load_npz_to_sparse_graph('amazon_electronics_computers.npz')"
   ]
  },
  {
   "cell_type": "code",
   "execution_count": 4,
   "metadata": {},
   "outputs": [
    {
     "data": {
      "text/plain": [
       "(13752, 13752)"
      ]
     },
     "execution_count": 4,
     "metadata": {},
     "output_type": "execute_result"
    }
   ],
   "source": [
    "adj.todense().shape"
   ]
  },
  {
   "cell_type": "code",
   "execution_count": null,
   "metadata": {},
   "outputs": [],
   "source": []
  },
  {
   "cell_type": "code",
   "execution_count": null,
   "metadata": {},
   "outputs": [],
   "source": []
  },
  {
   "cell_type": "code",
   "execution_count": null,
   "metadata": {},
   "outputs": [],
   "source": []
  },
  {
   "cell_type": "code",
   "execution_count": null,
   "metadata": {},
   "outputs": [],
   "source": []
  },
  {
   "cell_type": "code",
   "execution_count": null,
   "metadata": {},
   "outputs": [],
   "source": []
  },
  {
   "cell_type": "code",
   "execution_count": null,
   "metadata": {},
   "outputs": [],
   "source": []
  },
  {
   "cell_type": "code",
   "execution_count": null,
   "metadata": {},
   "outputs": [],
   "source": []
  },
  {
   "cell_type": "markdown",
   "metadata": {},
   "source": [
    "# Отправка решения\n",
    "\n",
    "\n",
    "1. Прогоните свой jupyter notebook: **Kernel** $\\rightarrow$ **Restart & Run all**, нотбук **должен** запускаться линейно! Если вы считали эмбединги прямо в нотбуке, можете закоментить соответствующие ячейки.\n",
    "2. Назовите нотбук `Имя_Фамилия_HA4_networks_2023`, например `Anvar_Kurmukov_HA2_networks_2023`\n",
    "4. Сохраните нотбук в формате `ipython`.\n",
    "5. Отправьте файл с нотбуком на почту kurmukovai@gmail.com с темой письма `iitp-networks-2023-Имя_Фамилия_HW4`.\n",
    "\n",
    "---\n",
    "\n",
    "## Комментарии к решению\n",
    "Ваш файл с решением должно быть **комфортно читать**:\n",
    "- **комментируйте** происходящее, лучше всего для этого подходит markdown cells, но можно и в комментариях в ячейках с кодом. Под комментируйте имеется ввиду написание выводов на естественном языке доступном проверяющему (русский или английский). Например, вы нарисовали двумерное вложение и на картинке ничего не понятно, все смешано, это нормально (хотя во втором пункте можно получить более менее неплохое вложение), так и напишите \"Не получилось построить...\".\n",
    "- не нужно оставлять все отладочные ячейки нотбука, сохраните свою работу отдельно, а в файле которые отправляете в качестве решения оставьте только нужное.\n",
    "- **округляйте** значения характеристик точности и модулярности до нескольких значащих цифр (столько сколько целесообразно в каждом отдельном случае), но не более 6."
   ]
  },
  {
   "cell_type": "code",
   "execution_count": null,
   "metadata": {},
   "outputs": [],
   "source": []
  }
 ],
 "metadata": {
  "kernelspec": {
   "display_name": "Python 3 (ipykernel)",
   "language": "python",
   "name": "python3"
  },
  "language_info": {
   "codemirror_mode": {
    "name": "ipython",
    "version": 3
   },
   "file_extension": ".py",
   "mimetype": "text/x-python",
   "name": "python",
   "nbconvert_exporter": "python",
   "pygments_lexer": "ipython3",
   "version": "3.11.5"
  },
  "widgets": {
   "application/vnd.jupyter.widget-state+json": {
    "state": {},
    "version_major": 2,
    "version_minor": 0
   }
  }
 },
 "nbformat": 4,
 "nbformat_minor": 4
}
