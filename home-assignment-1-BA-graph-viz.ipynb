{
 "cells": [
  {
   "cell_type": "markdown",
   "id": "3408964e",
   "metadata": {},
   "source": [
    "# 1. Small-world network example\n",
    "\n",
    "before you start read this short (2.5 pages) paper\n",
    "\n",
    "\"Emergence of Scaling in Random Networks\", Albert Laszlo Barabasi and Reka Albert, https://web.archive.org/web/20120417112354/http://www.nd.edu/~networks/Publication%20Categories/03%20Journal%20Articles/Physics/EmergenceRandom_Science%20286,%20509-512%20(1999).pdf\n"
   ]
  },
  {
   "cell_type": "code",
   "execution_count": null,
   "id": "4bef9958",
   "metadata": {},
   "outputs": [],
   "source": [
    "import pandas as pd\n",
    "import numpy as np\n",
    "from pathlib import Path\n",
    "import matplotlib.pyplot as plt\n",
    "%matplotlib inline"
   ]
  },
  {
   "cell_type": "code",
   "execution_count": null,
   "id": "9b910c55",
   "metadata": {},
   "outputs": [],
   "source": [
    "fname = Path('./2022/data/itas_2009-2017_v8.xls')\n",
    "itas_all = pd.read_excel(fname)\n",
    "\n",
    "itas_all.head()"
   ]
  },
  {
   "cell_type": "code",
   "execution_count": null,
   "id": "278734c5",
   "metadata": {},
   "outputs": [],
   "source": [
    "title_author = itas_all.groupby(by=['title', 'author_id_new']).count().reset_index()\n",
    "authors, titles = title_author.title, title_author.author_id_new\n",
    "title_author.head(5)"
   ]
  },
  {
   "cell_type": "markdown",
   "id": "eaa68783-e4e0-42b4-b709-f0db0d0219ff",
   "metadata": {},
   "source": [
    "### Build Incidence matrix"
   ]
  },
  {
   "cell_type": "code",
   "execution_count": null,
   "id": "f80b1047",
   "metadata": {},
   "outputs": [],
   "source": [
    "inc_table = pd.crosstab(authors, titles)\n",
    "inc_table.head(5).iloc[:, :5]"
   ]
  },
  {
   "cell_type": "markdown",
   "id": "f808be22-b0a6-49ac-a547-882046f8f9c9",
   "metadata": {},
   "source": [
    "### Build Adjacency matrix\n",
    "\n",
    "(very sparse)"
   ]
  },
  {
   "cell_type": "code",
   "execution_count": null,
   "id": "50c0d821",
   "metadata": {},
   "outputs": [],
   "source": [
    "adjacency_matrix = inc_table.values.dot(inc_table.values.T)\n",
    "n_papers = np.diag(adjacency_matrix)\n",
    "np.fill_diagonal(adjacency_matrix, 0)"
   ]
  },
  {
   "cell_type": "code",
   "execution_count": null,
   "id": "665cda2e-bdad-49e8-b57f-66aad8ecb3c3",
   "metadata": {},
   "outputs": [],
   "source": [
    "plt.imshow(adjacency_matrix, cmap='Paired')\n",
    "plt.colorbar();"
   ]
  },
  {
   "cell_type": "code",
   "execution_count": null,
   "id": "ae7c734f",
   "metadata": {},
   "outputs": [],
   "source": [
    "adjacency_matrix[adjacency_matrix>1] = 1"
   ]
  },
  {
   "cell_type": "markdown",
   "id": "d7711d28-6acd-4bd6-837c-9d1cb0e2a0aa",
   "metadata": {},
   "source": [
    "### Plot degree distribution"
   ]
  },
  {
   "cell_type": "code",
   "execution_count": null,
   "id": "f7175c69",
   "metadata": {},
   "outputs": [],
   "source": [
    "bins = np.histogram(adjacency_matrix.sum(axis=1), bins=20)"
   ]
  },
  {
   "cell_type": "code",
   "execution_count": null,
   "id": "092bd5da",
   "metadata": {},
   "outputs": [],
   "source": [
    "plt.scatter(bins[1][1:], bins[0])\n",
    "plt.plot(bins[1][1:], bins[0]);"
   ]
  },
  {
   "cell_type": "code",
   "execution_count": null,
   "id": "555af435",
   "metadata": {},
   "outputs": [],
   "source": [
    "plt.scatter(np.log(bins[1][1:]), np.log1p(bins[0]))\n",
    "plt.plot(np.log(bins[1][1:]), np.log1p(bins[0]));"
   ]
  },
  {
   "cell_type": "markdown",
   "id": "02e4d728",
   "metadata": {},
   "source": [
    "### Fitting a line to estimate `alpha`"
   ]
  },
  {
   "cell_type": "code",
   "execution_count": null,
   "id": "9ef96a76",
   "metadata": {},
   "outputs": [],
   "source": [
    "from sklearn.linear_model import LinearRegression"
   ]
  },
  {
   "cell_type": "code",
   "execution_count": null,
   "id": "a2e4ce71",
   "metadata": {},
   "outputs": [],
   "source": [
    "\n",
    "model = LinearRegression()\n",
    "model.fit(np.log(bins[1][1:]).reshape(-1,1), np.log1p(bins[0]))\n",
    "x = np.linspace(1.2, 4.6, 100).reshape(-1,1)\n",
    "y = model.predict(x)\n",
    "\n",
    "\n",
    "plt.scatter(np.log(bins[1][1:]), np.log(bins[0]))\n",
    "plt.plot(np.log(bins[1][1:]), np.log(bins[0]))\n",
    "\n",
    "plt.plot(x, y, c='r', label=f'alpha = {np.round(model.coef_[0], 3)}')\n",
    "plt.legend();"
   ]
  },
  {
   "cell_type": "code",
   "execution_count": null,
   "id": "964a0edb",
   "metadata": {},
   "outputs": [],
   "source": []
  },
  {
   "cell_type": "markdown",
   "id": "f011e665",
   "metadata": {},
   "source": [
    "# Home reading\n",
    "\n",
    "\"Scale-free networks are rare\", Anna D. Broido, Aaron Clauset https://www.nature.com/articles/s41467-019-08746-5"
   ]
  },
  {
   "cell_type": "code",
   "execution_count": null,
   "id": "1a037ded",
   "metadata": {},
   "outputs": [],
   "source": []
  },
  {
   "cell_type": "markdown",
   "id": "9e1e7f77",
   "metadata": {},
   "source": [
    "# 2. Build graphs in 3 popular libraries\n",
    "\n",
    "# 2.1 `networkx`"
   ]
  },
  {
   "cell_type": "code",
   "execution_count": null,
   "id": "7f0e78e5",
   "metadata": {},
   "outputs": [],
   "source": [
    "import networkx as nx"
   ]
  },
  {
   "cell_type": "code",
   "execution_count": null,
   "id": "eb094095",
   "metadata": {},
   "outputs": [],
   "source": [
    "edges = [\n",
    "    (1, 2),\n",
    "    (1, 3),\n",
    "    (2, 3),\n",
    "    (4, 5),\n",
    "    (4, 6),\n",
    "    (5, 6),\n",
    "    (1, 4),\n",
    "]\n",
    "df_edges = pd.DataFrame(data=edges, columns=['source', 'target'])"
   ]
  },
  {
   "cell_type": "code",
   "execution_count": null,
   "id": "da9af200",
   "metadata": {},
   "outputs": [],
   "source": [
    "G = nx.from_pandas_edgelist(df_edges)"
   ]
  },
  {
   "cell_type": "code",
   "execution_count": null,
   "id": "d28feb6e",
   "metadata": {},
   "outputs": [],
   "source": [
    "# dir(G)"
   ]
  },
  {
   "cell_type": "code",
   "execution_count": null,
   "id": "dd26e807",
   "metadata": {},
   "outputs": [],
   "source": [
    "adjacency = np.array(nx.adjacency_matrix(G).todense())\n",
    "pos = nx.layout.fruchterman_reingold_layout(G)"
   ]
  },
  {
   "cell_type": "code",
   "execution_count": null,
   "id": "4339788d",
   "metadata": {},
   "outputs": [],
   "source": [
    "nx.draw(G, pos=pos)"
   ]
  },
  {
   "cell_type": "code",
   "execution_count": null,
   "id": "b559b214",
   "metadata": {},
   "outputs": [],
   "source": []
  },
  {
   "cell_type": "markdown",
   "id": "33a8117d",
   "metadata": {},
   "source": [
    "# 2.2 `igraph`"
   ]
  },
  {
   "cell_type": "code",
   "execution_count": null,
   "id": "edc01f4b-6c63-4224-b3a1-36f749c9803d",
   "metadata": {},
   "outputs": [],
   "source": [
    "# !pip install igraph"
   ]
  },
  {
   "cell_type": "code",
   "execution_count": null,
   "id": "4a6e91a4",
   "metadata": {},
   "outputs": [],
   "source": [
    "from igraph import Graph, ADJ_MAX"
   ]
  },
  {
   "cell_type": "code",
   "execution_count": null,
   "id": "1b9d0392",
   "metadata": {},
   "outputs": [],
   "source": [
    "plt.imshow(adjacency)\n",
    "plt.colorbar();"
   ]
  },
  {
   "cell_type": "code",
   "execution_count": null,
   "id": "141b7b18",
   "metadata": {},
   "outputs": [],
   "source": [
    "g0 = Graph.Weighted_Adjacency(\n",
    "            adjacency.tolist(), mode=ADJ_MAX, attr='weight')"
   ]
  },
  {
   "cell_type": "code",
   "execution_count": null,
   "id": "37894857",
   "metadata": {},
   "outputs": [],
   "source": [
    "# dir(g0)"
   ]
  },
  {
   "cell_type": "code",
   "execution_count": null,
   "id": "76f0a30c",
   "metadata": {},
   "outputs": [],
   "source": [
    "pos = g0.layout_fruchterman_reingold()\n",
    "pos = dict(zip(range(1,7), pos.coords))"
   ]
  },
  {
   "cell_type": "markdown",
   "id": "32ccc14b",
   "metadata": {},
   "source": [
    "### `igraph` was originally designed for R language, so for plotting let's use `networkx` routines"
   ]
  },
  {
   "cell_type": "code",
   "execution_count": null,
   "id": "5f533459",
   "metadata": {},
   "outputs": [],
   "source": [
    "nx.draw(G, pos=pos)"
   ]
  },
  {
   "cell_type": "markdown",
   "id": "33a37724",
   "metadata": {},
   "source": [
    "# 2.3 `pytorch-geometric`"
   ]
  },
  {
   "cell_type": "code",
   "execution_count": null,
   "id": "d852f099-c600-4797-932e-3661426978d4",
   "metadata": {},
   "outputs": [],
   "source": [
    "# !pip install torch-geometric"
   ]
  },
  {
   "cell_type": "code",
   "execution_count": null,
   "id": "71a35808",
   "metadata": {},
   "outputs": [],
   "source": [
    "import torch\n",
    "from torch_geometric.data import Data\n",
    "import torch_geometric"
   ]
  },
  {
   "cell_type": "code",
   "execution_count": null,
   "id": "602fd87d",
   "metadata": {},
   "outputs": [],
   "source": [
    "# create edge index from nx graph\n",
    "\n",
    "adj = nx.to_scipy_sparse_array(G).tocoo()\n",
    "row = torch.from_numpy(adj.row.astype(np.int64)).to(torch.long)\n",
    "col = torch.from_numpy(adj.col.astype(np.int64)).to(torch.long)\n",
    "edge_index = torch.stack([row, col], dim=0)"
   ]
  },
  {
   "cell_type": "code",
   "execution_count": null,
   "id": "7586b8e0",
   "metadata": {},
   "outputs": [],
   "source": [
    "# pytorch-geometric allow for features both on vertices and on edges\n",
    "x = torch.tensor([[-1], [0], [1], [1], [-1], [0]], dtype=torch.float)\n",
    "\n",
    "data = Data(x=x, edge_index=edge_index)"
   ]
  },
  {
   "cell_type": "code",
   "execution_count": null,
   "id": "158a5a80",
   "metadata": {},
   "outputs": [],
   "source": [
    "# dir(data)"
   ]
  },
  {
   "cell_type": "code",
   "execution_count": null,
   "id": "6e0c5fbf",
   "metadata": {},
   "outputs": [],
   "source": [
    "g = torch_geometric.utils.to_networkx(data, to_undirected=True)\n",
    "nx.draw(g)"
   ]
  },
  {
   "cell_type": "markdown",
   "id": "f7de8420-2664-4317-aa19-4c82171e7d7d",
   "metadata": {},
   "source": [
    "# 2.4 Tensorflow GNN\n",
    "\n",
    "probably best for production scenario, very shallow learning curve\n",
    "\n",
    "https://github.com/tensorflow/gnn"
   ]
  },
  {
   "cell_type": "code",
   "execution_count": null,
   "id": "41803cc7-0448-4ed3-a113-4454f9011e51",
   "metadata": {},
   "outputs": [],
   "source": [
    "#!pip install tensorflow_gnn"
   ]
  },
  {
   "cell_type": "code",
   "execution_count": null,
   "id": "b73d8a7b-4637-49cc-9092-b3ce257e9363",
   "metadata": {},
   "outputs": [],
   "source": []
  },
  {
   "cell_type": "markdown",
   "id": "439896f8",
   "metadata": {},
   "source": [
    "# 3. Домашнее задание\n",
    "\n",
    "## 1. Визуализировать граф соавторств ИТИСа:\n",
    "1. выделить гигантскую компоненту связности\n",
    "2. визуализировать GCC используя любой метод укладки на выбор (методы igraph работают быстрее):\n",
    "    - `dir(nx.layout)`\n",
    "    - `[d for d in dir(igraph.Graph) if d.startswith('layout_')]`\n",
    "3. на изображении подписать 10 вершин (авторов) с наибольшей степенью вершины\n",
    "\n",
    "## 2. Имплементировать модель Барабаси-Альберты: \n",
    "\n",
    "```\n",
    "def generate_barabsi_albert(n: int) -> np.ndarray:\n",
    "    \"\"\"Generates graph with `n` nodes via a preferential attachement process. \n",
    "    Returns its binary 0/1 adjacency matrix.\"\"\"\n",
    "    ...\n",
    "```\n",
    "\n",
    "## 3. Проанализировать граф ИТИСа\n",
    "- Оцените параметр $\\lambda$, насколько граф ИТИСа соответствует Power law distribution?\n",
    "\n",
    "## 4. Home reading\n",
    "https://math.bme.hu/~gabor/oktatas/SztoM/Newman_Networks.pdf стр. 167-185 Centrality Measures"
   ]
  },
  {
   "cell_type": "code",
   "execution_count": null,
   "id": "c6001cf5",
   "metadata": {},
   "outputs": [],
   "source": []
  }
 ],
 "metadata": {
  "kernelspec": {
   "display_name": "Python 3 (ipykernel)",
   "language": "python",
   "name": "python3"
  },
  "language_info": {
   "codemirror_mode": {
    "name": "ipython",
    "version": 3
   },
   "file_extension": ".py",
   "mimetype": "text/x-python",
   "name": "python",
   "nbconvert_exporter": "python",
   "pygments_lexer": "ipython3",
   "version": "3.11.5"
  },
  "widgets": {
   "application/vnd.jupyter.widget-state+json": {
    "state": {},
    "version_major": 2,
    "version_minor": 0
   }
  }
 },
 "nbformat": 4,
 "nbformat_minor": 5
}
