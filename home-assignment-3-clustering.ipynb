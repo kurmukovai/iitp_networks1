{
 "cells": [
  {
   "cell_type": "markdown",
   "id": "6b411e1f-8a77-44c9-adcb-e0762f290e82",
   "metadata": {},
   "source": [
    "## Part 1.\n",
    "\n",
    "Analyse your egocentric VK network.\n",
    "\n",
    "1. Compute centrality measures for your egocentric VK network from HA-2: degree, closeness, betweenness, eigenvector; interpret the ranking results (does ranking make sense?).\n",
    "2. Find network communities using either `igraph` or `community-louvain` package, analyse the results, can you identify clusters related to your egocentric network?\n",
    "3. Using different layouts plot you network (you can use different node characteristics including clustering labels as node size/color). \n",
    "\n",
    "https://python-louvain.readthedocs.io/en/latest/api.html"
   ]
  },
  {
   "cell_type": "code",
   "execution_count": null,
   "id": "5ef34bbd-97bf-4891-8038-8905918efe54",
   "metadata": {},
   "outputs": [],
   "source": [
    "import networkx as nx\n",
    "import igraph as ig\n",
    "from community import community_louvain\n",
    "import matplotlib.pyplot as plt\n",
    "%matplotlib inline"
   ]
  },
  {
   "cell_type": "code",
   "execution_count": null,
   "id": "18d40aee-177f-4f5a-a075-c7bd3c982df4",
   "metadata": {},
   "outputs": [],
   "source": [
    "# !pip install python-louvain"
   ]
  },
  {
   "cell_type": "code",
   "execution_count": null,
   "id": "b08c4097-9f5d-44a2-b365-dbf7330706e0",
   "metadata": {},
   "outputs": [],
   "source": [
    "G = nx.karate_club_graph()"
   ]
  },
  {
   "cell_type": "markdown",
   "id": "67793205-ff54-4e61-bf98-96f8d5ec9045",
   "metadata": {},
   "source": [
    " Check drawing routines https://networkx.org/documentation/stable/reference/drawing.html"
   ]
  },
  {
   "cell_type": "code",
   "execution_count": null,
   "id": "2f0b740a-65eb-4f67-8fa2-616f58797fd7",
   "metadata": {},
   "outputs": [],
   "source": [
    "# Using spring layout\n",
    "pos_spring = nx.spring_layout(G)\n",
    "plt.figure(figsize=(6, 6))\n",
    "nx.draw(G, pos=pos_spring, with_labels=True, node_color='lightblue', edge_color='gray', node_size=500)\n",
    "plt.title(\"Spring Layout\");"
   ]
  },
  {
   "cell_type": "code",
   "execution_count": null,
   "id": "e1aa6f12-cd6b-4ecf-af82-fd280f3392c4",
   "metadata": {},
   "outputs": [],
   "source": []
  },
  {
   "cell_type": "markdown",
   "id": "27122522-ef2c-4b54-b943-e81af805fd81",
   "metadata": {},
   "source": [
    "### Community detection using Spectral Clustering\n",
    "\n",
    "Given graph $G$ with $n$ nodes, find non-overlapping node \"communities\": $k$ groups of nodes that are densely intra connected and have low number of inter connections.\n",
    "\n",
    "- Compute square diagonal matrix of node degrees $D$. \n",
    "    $$D_{ii} = \\sum_i A_{ij}, D_{ij} = 0, i \\neq j$$\n",
    "- Construct graph Laplacian \n",
    "    $$L_{unnormed} = D - A$$\n",
    "Find $0 = \\lambda_0 \\leq \\lambda_1 \\leq \\lambda_2 \\leq \\ldots \\leq \\lambda_m$ smallest eigenvalues of $L$ and construct matrix $X$ by stacking $m$ corresponding eigenvectors ($v_1, \\ldots v_m$) as columns of $X$. Matrix $X$ has size $n \\times m$, its rows are \"spectral representaion\" of graph nodes.\n",
    "   \n",
    "- Run k-means algorithm on matrix X and assign nodes with labels obtained by k-means.\n",
    "\n",
    "> You can use numpy/scipy eigenvector routines and sklearn KMeans\n",
    "---\n",
    "\n",
    "Implement 3 algorithms described in https://arxiv.org/abs/0711.0189 :\n",
    "1. Unnormalized spectral clustering \n",
    "2. Normalized spectral clustering according to Shi and Malik (2000)\n",
    "3. Normalized spectral clustering according to Ng, Jordan, and Weiss (2002)\n",
    "\n",
    "## Compare 3 versions of Spectral clustering on `Karate Club dataset` using\n",
    "1. `Adjusted Rand Index` (3 pairwise comparisons),\n",
    "2. (implement) `Modularity` (3 numbers):\n",
    "$$ Q(A, c) = \\frac{1}{2m} \\sum (A_{ij} - \\frac{k_i k_j}{2m}) [c_i == c_j]  $$\n",
    "3.  and visually, plotting points in a corresponding 2 dimensional spaces (spanned by eigenvectors).\n",
    "\n",
    "Theoretical questions:\n",
    "\n",
    "1. Why does the smallest eigenvalue of unnormalized Laplacian is always equal to 0? \n",
    "2. From network point of view, what does Symmetric normalization do? \n",
    "3. Under what conditions Symmetric and Random walk normalizations yield the same result? \n",
    "  \n",
    "    \n",
    "Sources:\n",
    "- Andrew Ng paper on spectral clustering https://ai.stanford.edu/~ang/papers/nips01-spectral.pdf\n",
    "- Tutorial on spectral clustering with multiple theoretical views on the problem https://arxiv.org/abs/0711.0189\n",
    "- Amazing explanation from James R. Lee https://www.youtube.com/watch?v=8XJes6XFjxM"
   ]
  },
  {
   "cell_type": "code",
   "execution_count": null,
   "id": "d2bb76ea-4cd3-4596-930a-9c824298e9dd",
   "metadata": {},
   "outputs": [],
   "source": [
    "from sklearn.metrics import adjusted_rand_score, adjusted_mutual_info_score\n",
    "from sklearn.cluster import KMeans\n",
    "from scipy import linalg # https://docs.scipy.org/doc/scipy/reference/linalg.html#eigenvalue-problems"
   ]
  },
  {
   "cell_type": "code",
   "execution_count": null,
   "id": "5d0f4bc8-a9ef-4de8-bdb2-420db2704a01",
   "metadata": {},
   "outputs": [],
   "source": []
  },
  {
   "cell_type": "code",
   "execution_count": null,
   "id": "2c4d5450-dadf-4f99-a913-130ddff3eb03",
   "metadata": {},
   "outputs": [],
   "source": []
  }
 ],
 "metadata": {
  "kernelspec": {
   "display_name": "Python 3 (ipykernel)",
   "language": "python",
   "name": "python3"
  },
  "language_info": {
   "codemirror_mode": {
    "name": "ipython",
    "version": 3
   },
   "file_extension": ".py",
   "mimetype": "text/x-python",
   "name": "python",
   "nbconvert_exporter": "python",
   "pygments_lexer": "ipython3",
   "version": "3.11.5"
  },
  "widgets": {
   "application/vnd.jupyter.widget-state+json": {
    "state": {},
    "version_major": 2,
    "version_minor": 0
   }
  }
 },
 "nbformat": 4,
 "nbformat_minor": 5
}
