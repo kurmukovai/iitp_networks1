{
 "cells": [
  {
   "cell_type": "markdown",
   "id": "d9c6fce1",
   "metadata": {},
   "source": [
    "# 1. VK Social network analysis\n",
    "\n",
    "\n",
    "## 1.1 Download your vk friends information \n",
    "\n",
    "1. You need to get access token, go here https://vk.com/dev and create stand alone application\n",
    "    - Мои приложения\n",
    "    - Создать приложение\n",
    "    - Standalone\n",
    "\n",
    "\n",
    "2. Access token можно найти в разделе Настройки вашего приложения, вам нужен тот который `Сервисный ключ доступа`\n",
    "\n",
    "3. Список методов API https://vk.com/dev/methods\n",
    "4. Нам потребуются методы `friends.get` и `users.get`"
   ]
  },
  {
   "cell_type": "code",
   "execution_count": null,
   "id": "c1fd9a4b",
   "metadata": {},
   "outputs": [],
   "source": [
    "import json\n",
    "import requests"
   ]
  },
  {
   "cell_type": "code",
   "execution_count": null,
   "id": "1c1e8771",
   "metadata": {},
   "outputs": [],
   "source": [
    "def get_friends_info(user_id, access_token, fields=None):\n",
    "    if fields is None:\n",
    "        fields = 'sex'\n",
    "    api = 'https://api.vk.com/method/'\n",
    "    friends_url = f'{api}friends.get?fields={fields}&user_id={user_id}&access_token={access_token}&v=5.131'\n",
    "    json_response = requests.get(friends_url).json()\n",
    "    if json_response.get('error'):\n",
    "        raise KeyError(f'Inable to access {user_id} friends.')\n",
    "\n",
    "    return json_response[u'response'], friends_url"
   ]
  },
  {
   "cell_type": "code",
   "execution_count": null,
   "id": "3cc391b8",
   "metadata": {},
   "outputs": [],
   "source": [
    "user_id = ''\n",
    "fields = 'sex,city,education,bdate' # check https://vk.com/dev/users.get for all possible fields values\n",
    "access_token = '' # put your token\n",
    "\n",
    "\n",
    "mates, url = get_friends_info(user_id, access_token, fields)"
   ]
  },
  {
   "cell_type": "code",
   "execution_count": null,
   "id": "e27512a7",
   "metadata": {},
   "outputs": [],
   "source": [
    "mates['count']"
   ]
  },
  {
   "cell_type": "code",
   "execution_count": null,
   "id": "e5290b11",
   "metadata": {},
   "outputs": [],
   "source": [
    "len(mates['items'])"
   ]
  },
  {
   "cell_type": "code",
   "execution_count": null,
   "id": "2eba5b00",
   "metadata": {},
   "outputs": [],
   "source": [
    "mates['items'][1]"
   ]
  },
  {
   "cell_type": "code",
   "execution_count": null,
   "id": "a2d21c08",
   "metadata": {},
   "outputs": [],
   "source": []
  },
  {
   "cell_type": "markdown",
   "id": "6d83d7b2",
   "metadata": {},
   "source": [
    "## 1.2 Build an egocentric graph\n",
    "\n",
    "\n",
    "\n",
    "Вам нужно самостоятельно написать функцию, которая из списка ваших друзей и их друзей построит такую сеть, что:\n",
    "- каждая вершина в ней - ваш друг\n",
    "- ребро между двумя друзьями возникает только в случае если они друг у друга в друзьях\n",
    "\n",
    "В качестве дополнительной информации необходимо вытащить пол, дату рождения, город и образование, нам это потребуется в следующем домашнем задании. Среди прочего может быть интересно посмотреть повышает ли одинаковый пол/возраст/школа вероятность быть друг у друга в друзьях или нет. Это называется **homophily** https://en.wikipedia.org/wiki/Network_homophily \n",
    "\n",
    "> Поскольку вам нужно будет запустить `get_friends_info` столько раз сколько у вас друзей, это может занять какое-то время, и после обработки информацию о графе лучше сохранить.\n",
    "\n",
    "Хранить такой граф удобно ввиде списка ребер, то есть таблицы с двумя колонками:\n",
    "\n",
    "| Вершина 1 | Вершина 2 |\n",
    "|---|---|\n",
    "|user_id_1| user_id_2|\n",
    "|user_id_1| user_id_3|\n",
    "|user_id_2| user_id_3|\n",
    "\n",
    "Информацию о пользователях удобно хранить в отдельной таблице:\n",
    "\n",
    "| User id | Name | Sex | Birthday |\n",
    "|---|---|---|---|\n",
    "|user_id_1| Anastasia | Female | 01.02.2003 |\n",
    "|user_id_2| Alex |Male| 21.01.1999|\n",
    "|user_id_3| Yulia|Female| 06.05.2001|\n",
    "\n",
    "\n",
    "# Сохраните две таблички: Информация о пользователях, список ребер\n",
    "\n",
    "В качестве решения пришлите на почту kurmukovai@gmail.com с темой письма iitp-networks-2023-ha2-Фамилия \n",
    "- jupyter-notebook с решением\n",
    "- и две таблицы (информация о пользоавтелях и список ребер).\n",
    "\n",
    "Таблицы будут использованы при выполнении ДЗ3.\n",
    "\n",
    "### Предварительно **удалите** из нотбука поле `access_token` (или обновите его внутри созданного приложения vk). `access_token` дает полный доступ к вашему аккаунту."
   ]
  },
  {
   "cell_type": "code",
   "execution_count": null,
   "id": "c07ca15b",
   "metadata": {},
   "outputs": [],
   "source": []
  },
  {
   "cell_type": "code",
   "execution_count": null,
   "id": "6c45766b",
   "metadata": {},
   "outputs": [],
   "source": []
  },
  {
   "cell_type": "markdown",
   "id": "ef4ce65a",
   "metadata": {},
   "source": [
    "# 2. Сравнить граф соавторств ИТИСа, ваш эгоцентрический граф и модельный граф Барабаси-Альберта (с таким же количеством вершин, из домашнего задания 1):\n",
    "    - распределение степеней вершин в log-log шкале\n",
    "    - среднюю длину пути между вершинами внутри GCC\n",
    "    - величину экспоненты $\\lambda$:\n",
    "    \n",
    "$$P(k) \\propto k^{-\\lambda}$$"
   ]
  },
  {
   "cell_type": "code",
   "execution_count": null,
   "id": "fba3fe7c",
   "metadata": {},
   "outputs": [],
   "source": []
  }
 ],
 "metadata": {
  "kernelspec": {
   "display_name": "Python 3 (ipykernel)",
   "language": "python",
   "name": "python3"
  },
  "language_info": {
   "codemirror_mode": {
    "name": "ipython",
    "version": 3
   },
   "file_extension": ".py",
   "mimetype": "text/x-python",
   "name": "python",
   "nbconvert_exporter": "python",
   "pygments_lexer": "ipython3",
   "version": "3.11.5"
  },
  "widgets": {
   "application/vnd.jupyter.widget-state+json": {
    "state": {},
    "version_major": 2,
    "version_minor": 0
   }
  }
 },
 "nbformat": 4,
 "nbformat_minor": 5
}
